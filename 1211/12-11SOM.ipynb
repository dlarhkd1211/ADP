{
 "cells": [
  {
   "cell_type": "code",
   "execution_count": 1,
   "metadata": {},
   "outputs": [],
   "source": [
    "import pandas as pd\n",
    "import numpy as np\n",
    "from sklearn.model_selection import train_test_split"
   ]
  },
  {
   "cell_type": "code",
   "execution_count": null,
   "metadata": {},
   "outputs": [],
   "source": [
    "df"
   ]
  },
  {
   "cell_type": "code",
   "execution_count": null,
   "metadata": {},
   "outputs": [],
   "source": []
  },
  {
   "cell_type": "markdown",
   "metadata": {},
   "source": [
    "id: 집 고유아이디\n",
    "\n",
    "date: 집이 팔린 날짜 \n",
    "\n",
    "price: 집 가격 (타겟변수)\n",
    "\n",
    "bedrooms: 주택 당 침실 개수\n",
    "\n",
    "bathrooms: 주택 당 화장실 개수\n",
    "\n",
    "floors: 전체 층 개수\n",
    "\n",
    "waterfront: 해변이 보이는지 (0, 1)\n",
    "\n",
    "condition: 집 청소상태 (1~5)\n",
    "\n",
    "grade: King County grading system 으로 인한 평점 (1~13)\n",
    "\n",
    "yr_built: 집이 지어진 년도\n",
    "\n",
    "yr_renovated: 집이 리모델링 된 년도\n",
    "\n",
    "zipcode: 우편번호\n",
    "\n",
    "lat: 위도\n",
    "\n",
    "long: 경도"
   ]
  },
  {
   "cell_type": "code",
   "execution_count": null,
   "metadata": {},
   "outputs": [],
   "source": []
  },
  {
   "cell_type": "code",
   "execution_count": null,
   "metadata": {},
   "outputs": [],
   "source": []
  }
 ],
 "metadata": {
  "kernelspec": {
   "display_name": "adp",
   "language": "python",
   "name": "adp"
  },
  "language_info": {
   "codemirror_mode": {
    "name": "ipython",
    "version": 3
   },
   "file_extension": ".py",
   "mimetype": "text/x-python",
   "name": "python",
   "nbconvert_exporter": "python",
   "pygments_lexer": "ipython3",
   "version": "3.7.11"
  }
 },
 "nbformat": 4,
 "nbformat_minor": 4
}
