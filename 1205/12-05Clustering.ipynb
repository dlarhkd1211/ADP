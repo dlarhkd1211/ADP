{
 "cells": [
  {
   "cell_type": "code",
   "execution_count": 1,
   "metadata": {},
   "outputs": [],
   "source": [
    "import pandas as pd\n",
    "import numpy as np\n",
    "import matplotlib.pyplot as plt\n",
    "import warnings\n",
    "warnings.filterwarnings(\"ignore\")"
   ]
  },
  {
   "cell_type": "code",
   "execution_count": 2,
   "metadata": {},
   "outputs": [],
   "source": [
    "df = pd.read_csv('cluster_bank_transactions.csv')"
   ]
  },
  {
   "cell_type": "code",
   "execution_count": 3,
   "metadata": {},
   "outputs": [
    {
     "data": {
      "text/html": [
       "<div>\n",
       "<style scoped>\n",
       "    .dataframe tbody tr th:only-of-type {\n",
       "        vertical-align: middle;\n",
       "    }\n",
       "\n",
       "    .dataframe tbody tr th {\n",
       "        vertical-align: top;\n",
       "    }\n",
       "\n",
       "    .dataframe thead th {\n",
       "        text-align: right;\n",
       "    }\n",
       "</style>\n",
       "<table border=\"1\" class=\"dataframe\">\n",
       "  <thead>\n",
       "    <tr style=\"text-align: right;\">\n",
       "      <th></th>\n",
       "      <th>TransactionID</th>\n",
       "      <th>CustomerID</th>\n",
       "      <th>CustomerDOB</th>\n",
       "      <th>CustGender</th>\n",
       "      <th>CustLocation</th>\n",
       "      <th>CustAccountBalance</th>\n",
       "      <th>TransactionDate</th>\n",
       "      <th>TransactionTime</th>\n",
       "      <th>TransactionAmount (INR)</th>\n",
       "    </tr>\n",
       "  </thead>\n",
       "  <tbody>\n",
       "    <tr>\n",
       "      <th>0</th>\n",
       "      <td>T1</td>\n",
       "      <td>C5841053</td>\n",
       "      <td>10/1/94</td>\n",
       "      <td>F</td>\n",
       "      <td>JAMSHEDPUR</td>\n",
       "      <td>17819.05</td>\n",
       "      <td>2/8/16</td>\n",
       "      <td>143207</td>\n",
       "      <td>25.0</td>\n",
       "    </tr>\n",
       "    <tr>\n",
       "      <th>1</th>\n",
       "      <td>T2</td>\n",
       "      <td>C2142763</td>\n",
       "      <td>4/4/57</td>\n",
       "      <td>M</td>\n",
       "      <td>JHAJJAR</td>\n",
       "      <td>2270.69</td>\n",
       "      <td>2/8/16</td>\n",
       "      <td>141858</td>\n",
       "      <td>27999.0</td>\n",
       "    </tr>\n",
       "    <tr>\n",
       "      <th>2</th>\n",
       "      <td>T3</td>\n",
       "      <td>C4417068</td>\n",
       "      <td>26/11/96</td>\n",
       "      <td>F</td>\n",
       "      <td>MUMBAI</td>\n",
       "      <td>17874.44</td>\n",
       "      <td>2/8/16</td>\n",
       "      <td>142712</td>\n",
       "      <td>459.0</td>\n",
       "    </tr>\n",
       "    <tr>\n",
       "      <th>3</th>\n",
       "      <td>T4</td>\n",
       "      <td>C5342380</td>\n",
       "      <td>14/9/73</td>\n",
       "      <td>F</td>\n",
       "      <td>MUMBAI</td>\n",
       "      <td>866503.21</td>\n",
       "      <td>2/8/16</td>\n",
       "      <td>142714</td>\n",
       "      <td>2060.0</td>\n",
       "    </tr>\n",
       "    <tr>\n",
       "      <th>4</th>\n",
       "      <td>T5</td>\n",
       "      <td>C9031234</td>\n",
       "      <td>24/3/88</td>\n",
       "      <td>F</td>\n",
       "      <td>NAVI MUMBAI</td>\n",
       "      <td>6714.43</td>\n",
       "      <td>2/8/16</td>\n",
       "      <td>181156</td>\n",
       "      <td>1762.5</td>\n",
       "    </tr>\n",
       "  </tbody>\n",
       "</table>\n",
       "</div>"
      ],
      "text/plain": [
       "  TransactionID CustomerID CustomerDOB CustGender CustLocation  \\\n",
       "0            T1   C5841053     10/1/94          F   JAMSHEDPUR   \n",
       "1            T2   C2142763      4/4/57          M      JHAJJAR   \n",
       "2            T3   C4417068    26/11/96          F       MUMBAI   \n",
       "3            T4   C5342380     14/9/73          F       MUMBAI   \n",
       "4            T5   C9031234     24/3/88          F  NAVI MUMBAI   \n",
       "\n",
       "   CustAccountBalance TransactionDate  TransactionTime  \\\n",
       "0            17819.05          2/8/16           143207   \n",
       "1             2270.69          2/8/16           141858   \n",
       "2            17874.44          2/8/16           142712   \n",
       "3           866503.21          2/8/16           142714   \n",
       "4             6714.43          2/8/16           181156   \n",
       "\n",
       "   TransactionAmount (INR)  \n",
       "0                     25.0  \n",
       "1                  27999.0  \n",
       "2                    459.0  \n",
       "3                   2060.0  \n",
       "4                   1762.5  "
      ]
     },
     "execution_count": 3,
     "metadata": {},
     "output_type": "execute_result"
    }
   ],
   "source": [
    "df.head()"
   ]
  },
  {
   "cell_type": "code",
   "execution_count": 4,
   "metadata": {},
   "outputs": [
    {
     "data": {
      "text/html": [
       "<div>\n",
       "<style scoped>\n",
       "    .dataframe tbody tr th:only-of-type {\n",
       "        vertical-align: middle;\n",
       "    }\n",
       "\n",
       "    .dataframe tbody tr th {\n",
       "        vertical-align: top;\n",
       "    }\n",
       "\n",
       "    .dataframe thead th {\n",
       "        text-align: right;\n",
       "    }\n",
       "</style>\n",
       "<table border=\"1\" class=\"dataframe\">\n",
       "  <thead>\n",
       "    <tr style=\"text-align: right;\">\n",
       "      <th></th>\n",
       "      <th>TransactionID</th>\n",
       "      <th>CustomerID</th>\n",
       "      <th>CustomerDOB</th>\n",
       "      <th>CustGender</th>\n",
       "      <th>CustLocation</th>\n",
       "      <th>CustAccountBalance</th>\n",
       "      <th>TransactionDate</th>\n",
       "      <th>TransactionTime</th>\n",
       "      <th>TransactionAmount (INR)</th>\n",
       "    </tr>\n",
       "  </thead>\n",
       "  <tbody>\n",
       "    <tr>\n",
       "      <th>1048562</th>\n",
       "      <td>T1048563</td>\n",
       "      <td>C8020229</td>\n",
       "      <td>8/4/90</td>\n",
       "      <td>M</td>\n",
       "      <td>NEW DELHI</td>\n",
       "      <td>7635.19</td>\n",
       "      <td>18/9/16</td>\n",
       "      <td>184824</td>\n",
       "      <td>799.0</td>\n",
       "    </tr>\n",
       "    <tr>\n",
       "      <th>1048563</th>\n",
       "      <td>T1048564</td>\n",
       "      <td>C6459278</td>\n",
       "      <td>20/2/92</td>\n",
       "      <td>M</td>\n",
       "      <td>NASHIK</td>\n",
       "      <td>27311.42</td>\n",
       "      <td>18/9/16</td>\n",
       "      <td>183734</td>\n",
       "      <td>460.0</td>\n",
       "    </tr>\n",
       "    <tr>\n",
       "      <th>1048564</th>\n",
       "      <td>T1048565</td>\n",
       "      <td>C6412354</td>\n",
       "      <td>18/5/89</td>\n",
       "      <td>M</td>\n",
       "      <td>HYDERABAD</td>\n",
       "      <td>221757.06</td>\n",
       "      <td>18/9/16</td>\n",
       "      <td>183313</td>\n",
       "      <td>770.0</td>\n",
       "    </tr>\n",
       "    <tr>\n",
       "      <th>1048565</th>\n",
       "      <td>T1048566</td>\n",
       "      <td>C6420483</td>\n",
       "      <td>30/8/78</td>\n",
       "      <td>M</td>\n",
       "      <td>VISAKHAPATNAM</td>\n",
       "      <td>10117.87</td>\n",
       "      <td>18/9/16</td>\n",
       "      <td>184706</td>\n",
       "      <td>1000.0</td>\n",
       "    </tr>\n",
       "    <tr>\n",
       "      <th>1048566</th>\n",
       "      <td>T1048567</td>\n",
       "      <td>C8337524</td>\n",
       "      <td>5/3/84</td>\n",
       "      <td>M</td>\n",
       "      <td>PUNE</td>\n",
       "      <td>75734.42</td>\n",
       "      <td>18/9/16</td>\n",
       "      <td>181222</td>\n",
       "      <td>1166.0</td>\n",
       "    </tr>\n",
       "  </tbody>\n",
       "</table>\n",
       "</div>"
      ],
      "text/plain": [
       "        TransactionID CustomerID CustomerDOB CustGender   CustLocation  \\\n",
       "1048562      T1048563   C8020229      8/4/90          M      NEW DELHI   \n",
       "1048563      T1048564   C6459278     20/2/92          M         NASHIK   \n",
       "1048564      T1048565   C6412354     18/5/89          M      HYDERABAD   \n",
       "1048565      T1048566   C6420483     30/8/78          M  VISAKHAPATNAM   \n",
       "1048566      T1048567   C8337524      5/3/84          M           PUNE   \n",
       "\n",
       "         CustAccountBalance TransactionDate  TransactionTime  \\\n",
       "1048562             7635.19         18/9/16           184824   \n",
       "1048563            27311.42         18/9/16           183734   \n",
       "1048564           221757.06         18/9/16           183313   \n",
       "1048565            10117.87         18/9/16           184706   \n",
       "1048566            75734.42         18/9/16           181222   \n",
       "\n",
       "         TransactionAmount (INR)  \n",
       "1048562                    799.0  \n",
       "1048563                    460.0  \n",
       "1048564                    770.0  \n",
       "1048565                   1000.0  \n",
       "1048566                   1166.0  "
      ]
     },
     "execution_count": 4,
     "metadata": {},
     "output_type": "execute_result"
    }
   ],
   "source": [
    "df.tail()"
   ]
  },
  {
   "cell_type": "raw",
   "metadata": {},
   "source": [
    "### **Interesting Analysis Ideas**\n",
    "\n",
    "The dataset can be used for different analysis, example -\n",
    "\n",
    "1. Perform Clustering / Segmentation on the dataset and identify popular customer groups along with their definitions/rules\n",
    "2. Perform Location-wise analysis to identify regional trends in India\n",
    "3. Perform transaction-related analysis to identify interesting trends that can be used by a bank to improve / optimi their user experiences\n",
    "4. Customer Recency, Frequency, Monetary analysis\n",
    "5. Network analysis or Graph analysis of customer data."
   ]
  },
  {
   "cell_type": "markdown",
   "metadata": {},
   "source": [
    "- TransactionID 제거\n",
    "- DOB 나이값으로 변환\n",
    "- TransactionDate, Time -> Integer값으로 분할\n",
    "- 요일 변수 추가, 분 및 초 삭제\n",
    "- 성별 인코딩"
   ]
  },
  {
   "cell_type": "markdown",
   "metadata": {},
   "source": [
    "- RFM 분석을 진행할 경우, 일 + 시간 단위로 Recency 계산"
   ]
  },
  {
   "cell_type": "markdown",
   "metadata": {},
   "source": [
    "# 1. Normal Clustering"
   ]
  },
  {
   "cell_type": "code",
   "execution_count": 20,
   "metadata": {},
   "outputs": [],
   "source": [
    "df_no = df.copy()"
   ]
  },
  {
   "cell_type": "code",
   "execution_count": 21,
   "metadata": {},
   "outputs": [],
   "source": [
    "df_no.drop('TransactionID', axis = 1, inplace = True)"
   ]
  },
  {
   "cell_type": "code",
   "execution_count": 9,
   "metadata": {},
   "outputs": [
    {
     "name": "stdout",
     "output_type": "stream",
     "text": [
      "<class 'pandas.core.frame.DataFrame'>\n",
      "RangeIndex: 1048567 entries, 0 to 1048566\n",
      "Data columns (total 8 columns):\n",
      " #   Column                   Non-Null Count    Dtype  \n",
      "---  ------                   --------------    -----  \n",
      " 0   CustomerID               1048567 non-null  object \n",
      " 1   CustomerDOB              1045170 non-null  object \n",
      " 2   CustGender               1047467 non-null  object \n",
      " 3   CustLocation             1048416 non-null  object \n",
      " 4   CustAccountBalance       1046198 non-null  float64\n",
      " 5   TransactionDate          1048567 non-null  object \n",
      " 6   TransactionTime          1048567 non-null  int64  \n",
      " 7   TransactionAmount (INR)  1048567 non-null  float64\n",
      "dtypes: float64(2), int64(1), object(5)\n",
      "memory usage: 64.0+ MB\n"
     ]
    }
   ],
   "source": [
    "df_no.info()"
   ]
  },
  {
   "cell_type": "code",
   "execution_count": 22,
   "metadata": {},
   "outputs": [],
   "source": [
    "df_no['CustomerDOB'] = pd.to_datetime(df_no['CustomerDOB'])\n",
    "df_no['TransactionDate'] = pd.to_datetime(df_no['TransactionDate'])"
   ]
  },
  {
   "cell_type": "code",
   "execution_count": 13,
   "metadata": {},
   "outputs": [
    {
     "data": {
      "text/plain": [
       "Timestamp('2016-12-09 00:00:00')"
      ]
     },
     "execution_count": 13,
     "metadata": {},
     "output_type": "execute_result"
    }
   ],
   "source": [
    "max(df_no['TransactionDate'])"
   ]
  },
  {
   "cell_type": "markdown",
   "metadata": {},
   "source": [
    "2016년 12월 10일을 기준으로 계산 진행"
   ]
  },
  {
   "cell_type": "code",
   "execution_count": 14,
   "metadata": {},
   "outputs": [
    {
     "data": {
      "text/plain": [
       "884265"
      ]
     },
     "execution_count": 14,
     "metadata": {},
     "output_type": "execute_result"
    }
   ],
   "source": [
    "len(df_no['CustomerID'].unique())"
   ]
  },
  {
   "cell_type": "code",
   "execution_count": 15,
   "metadata": {},
   "outputs": [
    {
     "data": {
      "text/plain": [
       "9356"
      ]
     },
     "execution_count": 15,
     "metadata": {},
     "output_type": "execute_result"
    }
   ],
   "source": [
    "len(df_no['CustLocation'].unique())"
   ]
  },
  {
   "cell_type": "code",
   "execution_count": 23,
   "metadata": {},
   "outputs": [],
   "source": [
    "df_no['Age'] = 2016 - df_no['CustomerDOB'].dt.year"
   ]
  },
  {
   "cell_type": "code",
   "execution_count": 37,
   "metadata": {},
   "outputs": [],
   "source": [
    "df_no['AcDate'] = pd.to_datetime('2016-12-10') - df_no['TransactionDate']"
   ]
  },
  {
   "cell_type": "code",
   "execution_count": 38,
   "metadata": {},
   "outputs": [
    {
     "data": {
      "text/html": [
       "<div>\n",
       "<style scoped>\n",
       "    .dataframe tbody tr th:only-of-type {\n",
       "        vertical-align: middle;\n",
       "    }\n",
       "\n",
       "    .dataframe tbody tr th {\n",
       "        vertical-align: top;\n",
       "    }\n",
       "\n",
       "    .dataframe thead th {\n",
       "        text-align: right;\n",
       "    }\n",
       "</style>\n",
       "<table border=\"1\" class=\"dataframe\">\n",
       "  <thead>\n",
       "    <tr style=\"text-align: right;\">\n",
       "      <th></th>\n",
       "      <th>CustomerID</th>\n",
       "      <th>CustomerDOB</th>\n",
       "      <th>CustGender</th>\n",
       "      <th>CustLocation</th>\n",
       "      <th>CustAccountBalance</th>\n",
       "      <th>TransactionDate</th>\n",
       "      <th>TransactionTime</th>\n",
       "      <th>TransactionAmount (INR)</th>\n",
       "      <th>Age</th>\n",
       "      <th>AcDate</th>\n",
       "    </tr>\n",
       "  </thead>\n",
       "  <tbody>\n",
       "    <tr>\n",
       "      <th>0</th>\n",
       "      <td>C5841053</td>\n",
       "      <td>1994-10-01</td>\n",
       "      <td>0</td>\n",
       "      <td>JAMSHEDPUR</td>\n",
       "      <td>17819.05</td>\n",
       "      <td>2016-02-08</td>\n",
       "      <td>143207</td>\n",
       "      <td>25.0</td>\n",
       "      <td>22.0</td>\n",
       "      <td>306 days</td>\n",
       "    </tr>\n",
       "    <tr>\n",
       "      <th>1</th>\n",
       "      <td>C2142763</td>\n",
       "      <td>2057-04-04</td>\n",
       "      <td>1</td>\n",
       "      <td>JHAJJAR</td>\n",
       "      <td>2270.69</td>\n",
       "      <td>2016-02-08</td>\n",
       "      <td>141858</td>\n",
       "      <td>27999.0</td>\n",
       "      <td>59.0</td>\n",
       "      <td>306 days</td>\n",
       "    </tr>\n",
       "    <tr>\n",
       "      <th>2</th>\n",
       "      <td>C4417068</td>\n",
       "      <td>1996-11-26</td>\n",
       "      <td>0</td>\n",
       "      <td>MUMBAI</td>\n",
       "      <td>17874.44</td>\n",
       "      <td>2016-02-08</td>\n",
       "      <td>142712</td>\n",
       "      <td>459.0</td>\n",
       "      <td>20.0</td>\n",
       "      <td>306 days</td>\n",
       "    </tr>\n",
       "    <tr>\n",
       "      <th>3</th>\n",
       "      <td>C5342380</td>\n",
       "      <td>1973-09-14</td>\n",
       "      <td>0</td>\n",
       "      <td>MUMBAI</td>\n",
       "      <td>866503.21</td>\n",
       "      <td>2016-02-08</td>\n",
       "      <td>142714</td>\n",
       "      <td>2060.0</td>\n",
       "      <td>43.0</td>\n",
       "      <td>306 days</td>\n",
       "    </tr>\n",
       "    <tr>\n",
       "      <th>4</th>\n",
       "      <td>C9031234</td>\n",
       "      <td>1988-03-24</td>\n",
       "      <td>0</td>\n",
       "      <td>NAVI MUMBAI</td>\n",
       "      <td>6714.43</td>\n",
       "      <td>2016-02-08</td>\n",
       "      <td>181156</td>\n",
       "      <td>1762.5</td>\n",
       "      <td>28.0</td>\n",
       "      <td>306 days</td>\n",
       "    </tr>\n",
       "    <tr>\n",
       "      <th>...</th>\n",
       "      <td>...</td>\n",
       "      <td>...</td>\n",
       "      <td>...</td>\n",
       "      <td>...</td>\n",
       "      <td>...</td>\n",
       "      <td>...</td>\n",
       "      <td>...</td>\n",
       "      <td>...</td>\n",
       "      <td>...</td>\n",
       "      <td>...</td>\n",
       "    </tr>\n",
       "    <tr>\n",
       "      <th>1048562</th>\n",
       "      <td>C8020229</td>\n",
       "      <td>1990-08-04</td>\n",
       "      <td>1</td>\n",
       "      <td>NEW DELHI</td>\n",
       "      <td>7635.19</td>\n",
       "      <td>2016-09-18</td>\n",
       "      <td>184824</td>\n",
       "      <td>799.0</td>\n",
       "      <td>26.0</td>\n",
       "      <td>83 days</td>\n",
       "    </tr>\n",
       "    <tr>\n",
       "      <th>1048563</th>\n",
       "      <td>C6459278</td>\n",
       "      <td>1992-02-20</td>\n",
       "      <td>1</td>\n",
       "      <td>NASHIK</td>\n",
       "      <td>27311.42</td>\n",
       "      <td>2016-09-18</td>\n",
       "      <td>183734</td>\n",
       "      <td>460.0</td>\n",
       "      <td>24.0</td>\n",
       "      <td>83 days</td>\n",
       "    </tr>\n",
       "    <tr>\n",
       "      <th>1048564</th>\n",
       "      <td>C6412354</td>\n",
       "      <td>1989-05-18</td>\n",
       "      <td>1</td>\n",
       "      <td>HYDERABAD</td>\n",
       "      <td>221757.06</td>\n",
       "      <td>2016-09-18</td>\n",
       "      <td>183313</td>\n",
       "      <td>770.0</td>\n",
       "      <td>27.0</td>\n",
       "      <td>83 days</td>\n",
       "    </tr>\n",
       "    <tr>\n",
       "      <th>1048565</th>\n",
       "      <td>C6420483</td>\n",
       "      <td>1978-08-30</td>\n",
       "      <td>1</td>\n",
       "      <td>VISAKHAPATNAM</td>\n",
       "      <td>10117.87</td>\n",
       "      <td>2016-09-18</td>\n",
       "      <td>184706</td>\n",
       "      <td>1000.0</td>\n",
       "      <td>38.0</td>\n",
       "      <td>83 days</td>\n",
       "    </tr>\n",
       "    <tr>\n",
       "      <th>1048566</th>\n",
       "      <td>C8337524</td>\n",
       "      <td>1984-05-03</td>\n",
       "      <td>1</td>\n",
       "      <td>PUNE</td>\n",
       "      <td>75734.42</td>\n",
       "      <td>2016-09-18</td>\n",
       "      <td>181222</td>\n",
       "      <td>1166.0</td>\n",
       "      <td>32.0</td>\n",
       "      <td>83 days</td>\n",
       "    </tr>\n",
       "  </tbody>\n",
       "</table>\n",
       "<p>985322 rows × 10 columns</p>\n",
       "</div>"
      ],
      "text/plain": [
       "        CustomerID CustomerDOB  CustGender   CustLocation  CustAccountBalance  \\\n",
       "0         C5841053  1994-10-01           0     JAMSHEDPUR            17819.05   \n",
       "1         C2142763  2057-04-04           1        JHAJJAR             2270.69   \n",
       "2         C4417068  1996-11-26           0         MUMBAI            17874.44   \n",
       "3         C5342380  1973-09-14           0         MUMBAI           866503.21   \n",
       "4         C9031234  1988-03-24           0    NAVI MUMBAI             6714.43   \n",
       "...            ...         ...         ...            ...                 ...   \n",
       "1048562   C8020229  1990-08-04           1      NEW DELHI             7635.19   \n",
       "1048563   C6459278  1992-02-20           1         NASHIK            27311.42   \n",
       "1048564   C6412354  1989-05-18           1      HYDERABAD           221757.06   \n",
       "1048565   C6420483  1978-08-30           1  VISAKHAPATNAM            10117.87   \n",
       "1048566   C8337524  1984-05-03           1           PUNE            75734.42   \n",
       "\n",
       "        TransactionDate  TransactionTime  TransactionAmount (INR)   Age  \\\n",
       "0            2016-02-08           143207                     25.0  22.0   \n",
       "1            2016-02-08           141858                  27999.0  59.0   \n",
       "2            2016-02-08           142712                    459.0  20.0   \n",
       "3            2016-02-08           142714                   2060.0  43.0   \n",
       "4            2016-02-08           181156                   1762.5  28.0   \n",
       "...                 ...              ...                      ...   ...   \n",
       "1048562      2016-09-18           184824                    799.0  26.0   \n",
       "1048563      2016-09-18           183734                    460.0  24.0   \n",
       "1048564      2016-09-18           183313                    770.0  27.0   \n",
       "1048565      2016-09-18           184706                   1000.0  38.0   \n",
       "1048566      2016-09-18           181222                   1166.0  32.0   \n",
       "\n",
       "          AcDate  \n",
       "0       306 days  \n",
       "1       306 days  \n",
       "2       306 days  \n",
       "3       306 days  \n",
       "4       306 days  \n",
       "...          ...  \n",
       "1048562  83 days  \n",
       "1048563  83 days  \n",
       "1048564  83 days  \n",
       "1048565  83 days  \n",
       "1048566  83 days  \n",
       "\n",
       "[985322 rows x 10 columns]"
      ]
     },
     "execution_count": 38,
     "metadata": {},
     "output_type": "execute_result"
    }
   ],
   "source": [
    "df_no"
   ]
  },
  {
   "cell_type": "code",
   "execution_count": 30,
   "metadata": {},
   "outputs": [],
   "source": [
    "for i in range(len(df_no)):\n",
    "    if df_no['Age'][i] < 0:\n",
    "        df_no['Age'][i] += 100\n",
    "    elif df_no['Age'][i] > 100:\n",
    "        df_no['Age'][i] = np.nan"
   ]
  },
  {
   "cell_type": "code",
   "execution_count": 33,
   "metadata": {},
   "outputs": [],
   "source": [
    "df_no.dropna(inplace = True)"
   ]
  },
  {
   "cell_type": "code",
   "execution_count": 28,
   "metadata": {},
   "outputs": [
    {
     "data": {
      "text/plain": [
       "C5533885    6\n",
       "C6624352    6\n",
       "C1736254    6\n",
       "C6735477    6\n",
       "C1113684    6\n",
       "           ..\n",
       "C8716232    1\n",
       "C4474828    1\n",
       "C3341662    1\n",
       "C6821983    1\n",
       "C6420483    1\n",
       "Name: CustomerID, Length: 884265, dtype: int64"
      ]
     },
     "execution_count": 28,
     "metadata": {},
     "output_type": "execute_result"
    }
   ],
   "source": [
    "df_no['CustomerID'].value_counts()"
   ]
  },
  {
   "cell_type": "code",
   "execution_count": 39,
   "metadata": {},
   "outputs": [
    {
     "data": {
      "text/html": [
       "<div>\n",
       "<style scoped>\n",
       "    .dataframe tbody tr th:only-of-type {\n",
       "        vertical-align: middle;\n",
       "    }\n",
       "\n",
       "    .dataframe tbody tr th {\n",
       "        vertical-align: top;\n",
       "    }\n",
       "\n",
       "    .dataframe thead th {\n",
       "        text-align: right;\n",
       "    }\n",
       "</style>\n",
       "<table border=\"1\" class=\"dataframe\">\n",
       "  <thead>\n",
       "    <tr style=\"text-align: right;\">\n",
       "      <th></th>\n",
       "      <th>CustomerID</th>\n",
       "      <th>CustomerDOB</th>\n",
       "      <th>CustGender</th>\n",
       "      <th>CustLocation</th>\n",
       "      <th>CustAccountBalance</th>\n",
       "      <th>TransactionDate</th>\n",
       "      <th>TransactionTime</th>\n",
       "      <th>TransactionAmount (INR)</th>\n",
       "      <th>Age</th>\n",
       "      <th>AcDate</th>\n",
       "    </tr>\n",
       "  </thead>\n",
       "  <tbody>\n",
       "    <tr>\n",
       "      <th>28272</th>\n",
       "      <td>C5533885</td>\n",
       "      <td>1990-10-07</td>\n",
       "      <td>1</td>\n",
       "      <td>KOLKATA</td>\n",
       "      <td>9283.45</td>\n",
       "      <td>2016-09-25</td>\n",
       "      <td>235351</td>\n",
       "      <td>108.00</td>\n",
       "      <td>26.0</td>\n",
       "      <td>76 days</td>\n",
       "    </tr>\n",
       "    <tr>\n",
       "      <th>49914</th>\n",
       "      <td>C5533885</td>\n",
       "      <td>1990-10-07</td>\n",
       "      <td>1</td>\n",
       "      <td>KOLKATA</td>\n",
       "      <td>9283.45</td>\n",
       "      <td>2016-03-08</td>\n",
       "      <td>143820</td>\n",
       "      <td>499.00</td>\n",
       "      <td>26.0</td>\n",
       "      <td>277 days</td>\n",
       "    </tr>\n",
       "    <tr>\n",
       "      <th>308974</th>\n",
       "      <td>C5533885</td>\n",
       "      <td>1988-05-22</td>\n",
       "      <td>1</td>\n",
       "      <td>THANE WEST</td>\n",
       "      <td>20845.31</td>\n",
       "      <td>2016-10-08</td>\n",
       "      <td>163930</td>\n",
       "      <td>918.86</td>\n",
       "      <td>28.0</td>\n",
       "      <td>63 days</td>\n",
       "    </tr>\n",
       "    <tr>\n",
       "      <th>481046</th>\n",
       "      <td>C5533885</td>\n",
       "      <td>1988-05-22</td>\n",
       "      <td>1</td>\n",
       "      <td>THANE WEST</td>\n",
       "      <td>20845.31</td>\n",
       "      <td>2016-08-21</td>\n",
       "      <td>224421</td>\n",
       "      <td>1180.68</td>\n",
       "      <td>28.0</td>\n",
       "      <td>111 days</td>\n",
       "    </tr>\n",
       "    <tr>\n",
       "      <th>705114</th>\n",
       "      <td>C5533885</td>\n",
       "      <td>2064-07-28</td>\n",
       "      <td>1</td>\n",
       "      <td>DELHI</td>\n",
       "      <td>74967.38</td>\n",
       "      <td>2016-08-31</td>\n",
       "      <td>171114</td>\n",
       "      <td>147.00</td>\n",
       "      <td>52.0</td>\n",
       "      <td>101 days</td>\n",
       "    </tr>\n",
       "  </tbody>\n",
       "</table>\n",
       "</div>"
      ],
      "text/plain": [
       "       CustomerID CustomerDOB  CustGender CustLocation  CustAccountBalance  \\\n",
       "28272    C5533885  1990-10-07           1      KOLKATA             9283.45   \n",
       "49914    C5533885  1990-10-07           1      KOLKATA             9283.45   \n",
       "308974   C5533885  1988-05-22           1   THANE WEST            20845.31   \n",
       "481046   C5533885  1988-05-22           1   THANE WEST            20845.31   \n",
       "705114   C5533885  2064-07-28           1        DELHI            74967.38   \n",
       "\n",
       "       TransactionDate  TransactionTime  TransactionAmount (INR)   Age  \\\n",
       "28272       2016-09-25           235351                   108.00  26.0   \n",
       "49914       2016-03-08           143820                   499.00  26.0   \n",
       "308974      2016-10-08           163930                   918.86  28.0   \n",
       "481046      2016-08-21           224421                  1180.68  28.0   \n",
       "705114      2016-08-31           171114                   147.00  52.0   \n",
       "\n",
       "         AcDate  \n",
       "28272   76 days  \n",
       "49914  277 days  \n",
       "308974  63 days  \n",
       "481046 111 days  \n",
       "705114 101 days  "
      ]
     },
     "execution_count": 39,
     "metadata": {},
     "output_type": "execute_result"
    }
   ],
   "source": [
    "df_no[df_no['CustomerID'] == 'C5533885']"
   ]
  },
  {
   "cell_type": "markdown",
   "metadata": {},
   "source": [
    "CustomerID와 CustomerAge로 Groupby한 후 분석 진행"
   ]
  },
  {
   "cell_type": "code",
   "execution_count": 34,
   "metadata": {},
   "outputs": [],
   "source": [
    "from sklearn.preprocessing import LabelEncoder"
   ]
  },
  {
   "cell_type": "code",
   "execution_count": 35,
   "metadata": {},
   "outputs": [
    {
     "data": {
      "text/plain": [
       "LabelEncoder()"
      ]
     },
     "execution_count": 35,
     "metadata": {},
     "output_type": "execute_result"
    }
   ],
   "source": [
    "lab = LabelEncoder()\n",
    "lab.fit(df_no.CustGender)"
   ]
  },
  {
   "cell_type": "code",
   "execution_count": 36,
   "metadata": {},
   "outputs": [],
   "source": [
    "df_no.CustGender = lab.transform(df_no.CustGender)"
   ]
  },
  {
   "cell_type": "code",
   "execution_count": 40,
   "metadata": {},
   "outputs": [],
   "source": [
    "aggregation = {\n",
    "    'TransactionAmount (INR)':'sum',\n",
    "    'AcDate':'min'\n",
    "}"
   ]
  },
  {
   "cell_type": "code",
   "execution_count": 51,
   "metadata": {},
   "outputs": [],
   "source": [
    "df_new = df_no.groupby(['CustomerID','Age','CustGender','CustAccountBalance']).agg(aggregation).reset_index()"
   ]
  },
  {
   "cell_type": "code",
   "execution_count": 52,
   "metadata": {},
   "outputs": [
    {
     "data": {
      "text/html": [
       "<div>\n",
       "<style scoped>\n",
       "    .dataframe tbody tr th:only-of-type {\n",
       "        vertical-align: middle;\n",
       "    }\n",
       "\n",
       "    .dataframe tbody tr th {\n",
       "        vertical-align: top;\n",
       "    }\n",
       "\n",
       "    .dataframe thead th {\n",
       "        text-align: right;\n",
       "    }\n",
       "</style>\n",
       "<table border=\"1\" class=\"dataframe\">\n",
       "  <thead>\n",
       "    <tr style=\"text-align: right;\">\n",
       "      <th></th>\n",
       "      <th>CustomerID</th>\n",
       "      <th>Age</th>\n",
       "      <th>CustGender</th>\n",
       "      <th>CustAccountBalance</th>\n",
       "      <th>TransactionAmount (INR)</th>\n",
       "      <th>AcDate</th>\n",
       "    </tr>\n",
       "  </thead>\n",
       "  <tbody>\n",
       "    <tr>\n",
       "      <th>0</th>\n",
       "      <td>C1010011</td>\n",
       "      <td>24.0</td>\n",
       "      <td>0</td>\n",
       "      <td>32500.73</td>\n",
       "      <td>4750.0</td>\n",
       "      <td>75 days</td>\n",
       "    </tr>\n",
       "    <tr>\n",
       "      <th>1</th>\n",
       "      <td>C1010011</td>\n",
       "      <td>33.0</td>\n",
       "      <td>1</td>\n",
       "      <td>120180.54</td>\n",
       "      <td>356.0</td>\n",
       "      <td>93 days</td>\n",
       "    </tr>\n",
       "    <tr>\n",
       "      <th>2</th>\n",
       "      <td>C1010012</td>\n",
       "      <td>22.0</td>\n",
       "      <td>1</td>\n",
       "      <td>24204.49</td>\n",
       "      <td>1499.0</td>\n",
       "      <td>118 days</td>\n",
       "    </tr>\n",
       "    <tr>\n",
       "      <th>3</th>\n",
       "      <td>C1010014</td>\n",
       "      <td>24.0</td>\n",
       "      <td>0</td>\n",
       "      <td>38377.14</td>\n",
       "      <td>1205.0</td>\n",
       "      <td>337 days</td>\n",
       "    </tr>\n",
       "    <tr>\n",
       "      <th>4</th>\n",
       "      <td>C1010014</td>\n",
       "      <td>32.0</td>\n",
       "      <td>1</td>\n",
       "      <td>161848.76</td>\n",
       "      <td>250.0</td>\n",
       "      <td>155 days</td>\n",
       "    </tr>\n",
       "    <tr>\n",
       "      <th>...</th>\n",
       "      <td>...</td>\n",
       "      <td>...</td>\n",
       "      <td>...</td>\n",
       "      <td>...</td>\n",
       "      <td>...</td>\n",
       "      <td>...</td>\n",
       "    </tr>\n",
       "    <tr>\n",
       "      <th>984122</th>\n",
       "      <td>C9099836</td>\n",
       "      <td>26.0</td>\n",
       "      <td>1</td>\n",
       "      <td>133067.23</td>\n",
       "      <td>691.0</td>\n",
       "      <td>155 days</td>\n",
       "    </tr>\n",
       "    <tr>\n",
       "      <th>984123</th>\n",
       "      <td>C9099877</td>\n",
       "      <td>20.0</td>\n",
       "      <td>1</td>\n",
       "      <td>96063.46</td>\n",
       "      <td>222.0</td>\n",
       "      <td>86 days</td>\n",
       "    </tr>\n",
       "    <tr>\n",
       "      <th>984124</th>\n",
       "      <td>C9099919</td>\n",
       "      <td>23.0</td>\n",
       "      <td>1</td>\n",
       "      <td>5559.75</td>\n",
       "      <td>126.0</td>\n",
       "      <td>114 days</td>\n",
       "    </tr>\n",
       "    <tr>\n",
       "      <th>984125</th>\n",
       "      <td>C9099941</td>\n",
       "      <td>21.0</td>\n",
       "      <td>1</td>\n",
       "      <td>35295.92</td>\n",
       "      <td>50.0</td>\n",
       "      <td>104 days</td>\n",
       "    </tr>\n",
       "    <tr>\n",
       "      <th>984126</th>\n",
       "      <td>C9099956</td>\n",
       "      <td>34.0</td>\n",
       "      <td>1</td>\n",
       "      <td>6968.93</td>\n",
       "      <td>855.0</td>\n",
       "      <td>76 days</td>\n",
       "    </tr>\n",
       "  </tbody>\n",
       "</table>\n",
       "<p>984127 rows × 6 columns</p>\n",
       "</div>"
      ],
      "text/plain": [
       "       CustomerID   Age  CustGender  CustAccountBalance  \\\n",
       "0        C1010011  24.0           0            32500.73   \n",
       "1        C1010011  33.0           1           120180.54   \n",
       "2        C1010012  22.0           1            24204.49   \n",
       "3        C1010014  24.0           0            38377.14   \n",
       "4        C1010014  32.0           1           161848.76   \n",
       "...           ...   ...         ...                 ...   \n",
       "984122   C9099836  26.0           1           133067.23   \n",
       "984123   C9099877  20.0           1            96063.46   \n",
       "984124   C9099919  23.0           1             5559.75   \n",
       "984125   C9099941  21.0           1            35295.92   \n",
       "984126   C9099956  34.0           1             6968.93   \n",
       "\n",
       "        TransactionAmount (INR)   AcDate  \n",
       "0                        4750.0  75 days  \n",
       "1                         356.0  93 days  \n",
       "2                        1499.0 118 days  \n",
       "3                        1205.0 337 days  \n",
       "4                         250.0 155 days  \n",
       "...                         ...      ...  \n",
       "984122                    691.0 155 days  \n",
       "984123                    222.0  86 days  \n",
       "984124                    126.0 114 days  \n",
       "984125                     50.0 104 days  \n",
       "984126                    855.0  76 days  \n",
       "\n",
       "[984127 rows x 6 columns]"
      ]
     },
     "execution_count": 52,
     "metadata": {},
     "output_type": "execute_result"
    }
   ],
   "source": [
    "df_new"
   ]
  },
  {
   "cell_type": "code",
   "execution_count": 75,
   "metadata": {},
   "outputs": [
    {
     "name": "stdout",
     "output_type": "stream",
     "text": [
      "<class 'pandas.core.frame.DataFrame'>\n",
      "RangeIndex: 984127 entries, 0 to 984126\n",
      "Data columns (total 5 columns):\n",
      " #   Column                   Non-Null Count   Dtype  \n",
      "---  ------                   --------------   -----  \n",
      " 0   Age                      984127 non-null  float64\n",
      " 1   CustGender               984127 non-null  int64  \n",
      " 2   CustAccountBalance       984127 non-null  float64\n",
      " 3   TransactionAmount (INR)  984127 non-null  float64\n",
      " 4   AcDate                   984127 non-null  int64  \n",
      "dtypes: float64(3), int64(2)\n",
      "memory usage: 37.5 MB\n"
     ]
    }
   ],
   "source": [
    "df_new.info()"
   ]
  },
  {
   "cell_type": "code",
   "execution_count": 65,
   "metadata": {},
   "outputs": [],
   "source": [
    "df_new['AcDate'] = df_new['AcDate'].dt.days"
   ]
  },
  {
   "cell_type": "code",
   "execution_count": 72,
   "metadata": {},
   "outputs": [],
   "source": [
    "df_new.drop('CustomerID', axis = 1, inplace = True)"
   ]
  },
  {
   "cell_type": "code",
   "execution_count": 66,
   "metadata": {},
   "outputs": [
    {
     "data": {
      "text/plain": [
       "array([[<AxesSubplot:title={'center':'Age'}>,\n",
       "        <AxesSubplot:title={'center':'CustGender'}>],\n",
       "       [<AxesSubplot:title={'center':'CustAccountBalance'}>,\n",
       "        <AxesSubplot:title={'center':'TransactionAmount (INR)'}>],\n",
       "       [<AxesSubplot:title={'center':'AcDate'}>, <AxesSubplot:>]],\n",
       "      dtype=object)"
      ]
     },
     "execution_count": 66,
     "metadata": {},
     "output_type": "execute_result"
    },
    {
     "data": {
      "image/png": "[encoded data removed]",
      "text/plain": [
       "<Figure size 1440x720 with 6 Axes>"
      ]
     },
     "metadata": {
      "needs_background": "light"
     },
     "output_type": "display_data"
    }
   ],
   "source": [
    "df_new.hist(figsize = (20, 10))"
   ]
  },
  {
   "cell_type": "code",
   "execution_count": 73,
   "metadata": {},
   "outputs": [],
   "source": [
    "import seaborn as sns"
   ]
  },
  {
   "cell_type": "code",
   "execution_count": 78,
   "metadata": {},
   "outputs": [
    {
     "data": {
      "image/png": "[encoded data removed]",
      "text/plain": [
       "<Figure size 432x288 with 1 Axes>"
      ]
     },
     "metadata": {
      "needs_background": "light"
     },
     "output_type": "display_data"
    },
    {
     "data": {
      "image/png": "[encoded data removed]",
      "text/plain": [
       "<Figure size 432x288 with 1 Axes>"
      ]
     },
     "metadata": {
      "needs_background": "light"
     },
     "output_type": "display_data"
    },
    {
     "data": {
      "image/png": "[encoded data removed]",
      "text/plain": [
       "<Figure size 432x288 with 1 Axes>"
      ]
     },
     "metadata": {
      "needs_background": "light"
     },
     "output_type": "display_data"
    },
    {
     "data": {
      "image/png": "[encoded data removed]",
      "text/plain": [
       "<Figure size 432x288 with 1 Axes>"
      ]
     },
     "metadata": {
      "needs_background": "light"
     },
     "output_type": "display_data"
    },
    {
     "data": {
      "image/png": "[encoded data removed]",
      "text/plain": [
       "<Figure size 432x288 with 1 Axes>"
      ]
     },
     "metadata": {
      "needs_background": "light"
     },
     "output_type": "display_data"
    }
   ],
   "source": [
    "for i in df_new.columns:\n",
    "    sns.boxplot( df_new[i] )\n",
    "    plt.show()"
   ]
  },
  {
   "cell_type": "code",
   "execution_count": 83,
   "metadata": {},
   "outputs": [
    {
     "data": {
      "text/html": [
       "<div>\n",
       "<style scoped>\n",
       "    .dataframe tbody tr th:only-of-type {\n",
       "        vertical-align: middle;\n",
       "    }\n",
       "\n",
       "    .dataframe tbody tr th {\n",
       "        vertical-align: top;\n",
       "    }\n",
       "\n",
       "    .dataframe thead th {\n",
       "        text-align: right;\n",
       "    }\n",
       "</style>\n",
       "<table border=\"1\" class=\"dataframe\">\n",
       "  <thead>\n",
       "    <tr style=\"text-align: right;\">\n",
       "      <th></th>\n",
       "      <th>Age</th>\n",
       "      <th>CustGender</th>\n",
       "      <th>CustAccountBalance</th>\n",
       "      <th>TransactionAmount (INR)</th>\n",
       "      <th>AcDate</th>\n",
       "    </tr>\n",
       "  </thead>\n",
       "  <tbody>\n",
       "    <tr>\n",
       "      <th>count</th>\n",
       "      <td>984127.000000</td>\n",
       "      <td>984127.000000</td>\n",
       "      <td>9.841270e+05</td>\n",
       "      <td>9.841270e+05</td>\n",
       "      <td>984127.000000</td>\n",
       "    </tr>\n",
       "    <tr>\n",
       "      <th>mean</th>\n",
       "      <td>31.029863</td>\n",
       "      <td>0.723052</td>\n",
       "      <td>1.059916e+05</td>\n",
       "      <td>1.454189e+03</td>\n",
       "      <td>137.302891</td>\n",
       "    </tr>\n",
       "    <tr>\n",
       "      <th>std</th>\n",
       "      <td>8.757031</td>\n",
       "      <td>0.447491</td>\n",
       "      <td>8.140840e+05</td>\n",
       "      <td>6.143693e+03</td>\n",
       "      <td>82.517605</td>\n",
       "    </tr>\n",
       "    <tr>\n",
       "      <th>min</th>\n",
       "      <td>0.000000</td>\n",
       "      <td>0.000000</td>\n",
       "      <td>0.000000e+00</td>\n",
       "      <td>0.000000e+00</td>\n",
       "      <td>1.000000</td>\n",
       "    </tr>\n",
       "    <tr>\n",
       "      <th>1%</th>\n",
       "      <td>19.000000</td>\n",
       "      <td>0.000000</td>\n",
       "      <td>3.470000e+00</td>\n",
       "      <td>8.620000e+00</td>\n",
       "      <td>1.000000</td>\n",
       "    </tr>\n",
       "    <tr>\n",
       "      <th>25%</th>\n",
       "      <td>25.000000</td>\n",
       "      <td>0.000000</td>\n",
       "      <td>4.580740e+03</td>\n",
       "      <td>1.520000e+02</td>\n",
       "      <td>92.000000</td>\n",
       "    </tr>\n",
       "    <tr>\n",
       "      <th>50%</th>\n",
       "      <td>29.000000</td>\n",
       "      <td>1.000000</td>\n",
       "      <td>1.600194e+04</td>\n",
       "      <td>4.329000e+02</td>\n",
       "      <td>112.000000</td>\n",
       "    </tr>\n",
       "    <tr>\n",
       "      <th>75%</th>\n",
       "      <td>34.000000</td>\n",
       "      <td>1.000000</td>\n",
       "      <td>5.375908e+04</td>\n",
       "      <td>1.129000e+03</td>\n",
       "      <td>184.000000</td>\n",
       "    </tr>\n",
       "    <tr>\n",
       "      <th>95%</th>\n",
       "      <td>48.000000</td>\n",
       "      <td>1.000000</td>\n",
       "      <td>3.844491e+05</td>\n",
       "      <td>5.000000e+03</td>\n",
       "      <td>306.000000</td>\n",
       "    </tr>\n",
       "    <tr>\n",
       "      <th>99%</th>\n",
       "      <td>63.000000</td>\n",
       "      <td>1.000000</td>\n",
       "      <td>1.413420e+06</td>\n",
       "      <td>1.838670e+04</td>\n",
       "      <td>337.000000</td>\n",
       "    </tr>\n",
       "    <tr>\n",
       "      <th>max</th>\n",
       "      <td>98.000000</td>\n",
       "      <td>1.000000</td>\n",
       "      <td>1.150355e+08</td>\n",
       "      <td>1.560035e+06</td>\n",
       "      <td>337.000000</td>\n",
       "    </tr>\n",
       "  </tbody>\n",
       "</table>\n",
       "</div>"
      ],
      "text/plain": [
       "                 Age     CustGender  CustAccountBalance  \\\n",
       "count  984127.000000  984127.000000        9.841270e+05   \n",
       "mean       31.029863       0.723052        1.059916e+05   \n",
       "std         8.757031       0.447491        8.140840e+05   \n",
       "min         0.000000       0.000000        0.000000e+00   \n",
       "1%         19.000000       0.000000        3.470000e+00   \n",
       "25%        25.000000       0.000000        4.580740e+03   \n",
       "50%        29.000000       1.000000        1.600194e+04   \n",
       "75%        34.000000       1.000000        5.375908e+04   \n",
       "95%        48.000000       1.000000        3.844491e+05   \n",
       "99%        63.000000       1.000000        1.413420e+06   \n",
       "max        98.000000       1.000000        1.150355e+08   \n",
       "\n",
       "       TransactionAmount (INR)         AcDate  \n",
       "count             9.841270e+05  984127.000000  \n",
       "mean              1.454189e+03     137.302891  \n",
       "std               6.143693e+03      82.517605  \n",
       "min               0.000000e+00       1.000000  \n",
       "1%                8.620000e+00       1.000000  \n",
       "25%               1.520000e+02      92.000000  \n",
       "50%               4.329000e+02     112.000000  \n",
       "75%               1.129000e+03     184.000000  \n",
       "95%               5.000000e+03     306.000000  \n",
       "99%               1.838670e+04     337.000000  \n",
       "max               1.560035e+06     337.000000  "
      ]
     },
     "execution_count": 83,
     "metadata": {},
     "output_type": "execute_result"
    }
   ],
   "source": [
    "df_new.describe(percentiles = [0.01,  0.25, 0.5, 0.75, 0.95, 0.99])"
   ]
  },
  {
   "cell_type": "code",
   "execution_count": 80,
   "metadata": {},
   "outputs": [
    {
     "name": "stdout",
     "output_type": "stream",
     "text": [
      "Age 54328\n",
      "CustGender 0\n",
      "CustAccountBalance 130514\n",
      "TransactionAmount (INR) 105500\n",
      "AcDate 40138\n"
     ]
    }
   ],
   "source": [
    "def get_outlier(data, col_name, li):\n",
    "    q1, q3 = np.percentile(data[col_name], [25, 75])\n",
    "    iqr = q3-q1\n",
    "    lowest_val = q1 - iqr*1.5\n",
    "    highest_val = q3 + iqr*1.5\n",
    "\n",
    "    outlier_index = data[col_name][(data[col_name] < lowest_val) | (data[col_name] > highest_val)].index\n",
    "    print(col_name, len(outlier_index))\n",
    "    li.extend(outlier_index)\n",
    "\n",
    "    return li\n",
    "\n",
    "li = []\n",
    "for out in df_new.columns:\n",
    "    get_outlier(df_new, out, li)"
   ]
  },
  {
   "cell_type": "code",
   "execution_count": 81,
   "metadata": {},
   "outputs": [
    {
     "name": "stdout",
     "output_type": "stream",
     "text": [
      "330480 268027 984127\n"
     ]
    }
   ],
   "source": [
    "print(len(li), len(set(li)), df_new.shape[0])"
   ]
  },
  {
   "cell_type": "code",
   "execution_count": null,
   "metadata": {},
   "outputs": [],
   "source": []
  }
 ],
 "metadata": {
  "kernelspec": {
   "display_name": "adp",
   "language": "python",
   "name": "adp"
  },
  "language_info": {
   "codemirror_mode": {
    "name": "ipython",
    "version": 3
   },
   "file_extension": ".py",
   "mimetype": "text/x-python",
   "name": "python",
   "nbconvert_exporter": "python",
   "pygments_lexer": "ipython3",
   "version": "3.7.11"
  }
 },
 "nbformat": 4,
 "nbformat_minor": 4
}
